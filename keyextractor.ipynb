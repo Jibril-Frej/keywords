{
 "cells": [
  {
   "cell_type": "code",
   "execution_count": null,
   "id": "628522d9",
   "metadata": {},
   "outputs": [],
   "source": [
    "import keyextractor"
   ]
  },
  {
   "cell_type": "code",
   "execution_count": null,
   "id": "a6d911bc",
   "metadata": {},
   "outputs": [],
   "source": [
    "text = keyextract.extract_text('folder')"
   ]
  },
  {
   "cell_type": "code",
   "execution_count": null,
   "id": "e6085075",
   "metadata": {},
   "outputs": [],
   "source": [
    "keywords = keyextract.get_keywords(text, pdf_file='keywords.pdf')"
   ]
  }
 ],
 "metadata": {
  "kernelspec": {
   "display_name": "Python 3 (ipykernel)",
   "language": "python",
   "name": "python3"
  },
  "language_info": {
   "codemirror_mode": {
    "name": "ipython",
    "version": 3
   },
   "file_extension": ".py",
   "mimetype": "text/x-python",
   "name": "python",
   "nbconvert_exporter": "python",
   "pygments_lexer": "ipython3",
   "version": "3.8.12"
  }
 },
 "nbformat": 4,
 "nbformat_minor": 5
}
