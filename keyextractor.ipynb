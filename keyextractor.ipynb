{
 "cells": [
  {
   "cell_type": "code",
   "execution_count": null,
   "metadata": {},
   "outputs": [],
   "source": [
    "import keyextractor"
   ]
  },
  {
   "cell_type": "markdown",
   "metadata": {},
   "source": [
    "## Renseigner dans la variable _path_ le chemin du dossier contenant les fichiers à analyser. \n",
    "\n",
    "## Seuls les fichers .pdf .odf et .docx situés dans le dossier _path_ seront pris en compte."
   ]
  },
  {
   "cell_type": "code",
   "execution_count": null,
   "metadata": {},
   "outputs": [],
   "source": [
    "text = keyextractor.extract_text(path='example')"
   ]
  },
  {
   "cell_type": "markdown",
   "metadata": {},
   "source": [
    "### Fichier contenant les mots clés à supprimer du text.\n",
    "### Un mot clé par ligne.\n",
    "\n",
    "### Un mot clé peut être composé de plusieurs mots, par exemple \"rev cancer\""
   ]
  },
  {
   "cell_type": "code",
   "execution_count": null,
   "metadata": {},
   "outputs": [],
   "source": [
    "anti_dict_file = 'antidictionnary.txt'"
   ]
  },
  {
   "cell_type": "markdown",
   "metadata": {},
   "source": [
    "## Renseigner dans la variable _pdf_file_ le nom du fichier pdf dans lequel le nuage de mots sera stocké.\n",
    "\n",
    "## Renseigner dans la variable _csv_file_ le nom du fichier csv dans lequel les mots clés et leur scores seront stockés.\n",
    "\n",
    "## Renseigner dans la variable _max_nb_words_ le nombre maximum de mots pouvant composer un mot clé"
   ]
  },
  {
   "cell_type": "code",
   "execution_count": null,
   "metadata": {},
   "outputs": [],
   "source": [
    "keywords = keyextractor.get_keywords(text, \n",
    "                                     max_nb_words=3,\n",
    "                                     anti_dict_file=anti_dict_file, \n",
    "                                     pdf_file='cloud.pdf', \n",
    "                                     csv_file='keywords.csv')"
   ]
  }
 ],
 "metadata": {
  "kernelspec": {
   "display_name": "Python 3",
   "language": "python",
   "name": "python3"
  },
  "language_info": {
   "codemirror_mode": {
    "name": "ipython",
    "version": 3
   },
   "file_extension": ".py",
   "mimetype": "text/x-python",
   "name": "python",
   "nbconvert_exporter": "python",
   "pygments_lexer": "ipython3",
   "version": "3.8.5"
  }
 },
 "nbformat": 4,
 "nbformat_minor": 5
}
